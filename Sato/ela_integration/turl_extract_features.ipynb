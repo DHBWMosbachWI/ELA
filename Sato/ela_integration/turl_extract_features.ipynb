{
 "cells": [
  {
   "cell_type": "code",
   "execution_count": null,
   "metadata": {},
   "outputs": [],
   "source": [
    "import os\n",
    "import sys\n",
    "sys.path.append(\"..\")\n",
    "# set env-var\n",
    "os.environ['BASEPATH'] = 'D:\\\\20120321_DHBW_AZUREML\\\\sato'\n",
    "os.environ['RAW_DIR'] = '' # path to the raw data\n",
    "os.environ['SHERLOCKPATH'] = os.environ['BASEPATH']+'/sherlock'\n",
    "os.environ['EXTRACTPATH'] = os.environ['BASEPATH']+'/extract'\n",
    "#os.environ['PYTHONPATH'] = os.environ['PYTHONPATH']+':'+os.environ['SHERLOCKPATH']\n",
    "#os.environ['PYTHONPATH'] = os.environ['PYTHONPATH']+':'+os.environ['BASEPATH']\n",
    "os.environ['TYPENAME'] = 'type_gittables_abstraction'\n",
    "os.environ[\"TURL_DIR\"] = 'D:\\\\TURL\\\\tables'\n",
    "os.environ[\"GITTABLES_DIR\"] = \"D:\\\\GitTables\""
   ]
  },
  {
   "cell_type": "code",
   "execution_count": null,
   "metadata": {},
   "outputs": [],
   "source": [
    "%run ../extract/extract_features.py gittables-abstraction-tables -f \"topic\" -LDA \"num-directstr_thr-0_tn-400\""
   ]
  },
  {
   "cell_type": "code",
   "execution_count": null,
   "metadata": {},
   "outputs": [],
   "source": [
    "from extract.helpers.utils import valid_header_iter_gen, count_length_gen\n",
    "from utils import get_valid_types, str_or_none, str2bool\n",
    "from extract.helpers.read_raw_data import get_filtered_dfs_by_corpus\n",
    "import functools\n",
    "from tqdm import tqdm\n",
    "from multiprocessing import Pool\n",
    "import itertools\n",
    "import time\n",
    "import pandas as pd\n",
    "import argparse\n",
    "from os.path import join\n",
    "\n",
    "TYPENAME = os.environ['TYPENAME']\n",
    "\n",
    "valid_types = get_valid_types(TYPENAME)\n",
    "valid_header_dir = os.path.join(\n",
    "    os.environ['BASEPATH'], 'extract', 'out', 'headers', TYPENAME)\n",
    "\n",
    "header_name = \"{}_{}_header_valid.csv\".format(\"gittables-abstraction-tables\", TYPENAME)\n",
    "header_iter = valid_header_iter_gen(header_name)\n",
    "raw_df_iter = get_filtered_dfs_by_corpus[\"gittables\"](header_iter)"
   ]
  },
  {
   "cell_type": "code",
   "execution_count": null,
   "metadata": {},
   "outputs": [],
   "source": [
    "for index, raw_df in enumerate(raw_df_iter):\n",
    "    if index > 0:\n",
    "        break\n",
    "    print(raw_df)\n"
   ]
  },
  {
   "cell_type": "code",
   "execution_count": null,
   "metadata": {},
   "outputs": [],
   "source": [
    "import pandas as pd\n",
    "\n",
    "df = pd.read_csv(\"../extract/out/features/type_turl/turl_type_turl_topic-num-directstr_thr-0_tn-400_features.csv\")"
   ]
  },
  {
   "cell_type": "code",
   "execution_count": null,
   "metadata": {},
   "outputs": [],
   "source": [
    "df[\"locator\"] = \"tables\"\n",
    "df.to_csv(\"../extract/out/features/type_turl/turl_type_turl_topic-num-directstr_thr-0_tn-400_features.csv\", index=False)"
   ]
  },
  {
   "cell_type": "code",
   "execution_count": null,
   "metadata": {},
   "outputs": [],
   "source": [
    "df[\"locator\"] = \"tables\"\n",
    "df.to_csv(\"../extract/out/features/type_turl/turl_type_turl_sherlock_features.csv\", index=False)"
   ]
  },
  {
   "cell_type": "code",
   "execution_count": null,
   "metadata": {},
   "outputs": [],
   "source": [
    "%run ../model/train_sherlock.py -c ../model/params/turl/"
   ]
  },
  {
   "cell_type": "code",
   "execution_count": null,
   "metadata": {},
   "outputs": [],
   "source": [
    "assert sum([1, 2, 3]) == 6, \"Should be 6\""
   ]
  },
  {
   "cell_type": "code",
   "execution_count": null,
   "metadata": {},
   "outputs": [],
   "source": [
    "\"test\" is not None"
   ]
  },
  {
   "cell_type": "code",
   "execution_count": null,
   "metadata": {},
   "outputs": [],
   "source": []
  }
 ],
 "metadata": {
  "interpreter": {
   "hash": "b27a53400a11b77b02f1d2309c8bc5e534ca1e422654b13082ae5af4dd3feced"
  },
  "kernelspec": {
   "display_name": "Python 3.7.10 64-bit ('sato': conda)",
   "name": "python3"
  },
  "language_info": {
   "codemirror_mode": {
    "name": "ipython",
    "version": 3
   },
   "file_extension": ".py",
   "mimetype": "text/x-python",
   "name": "python",
   "nbconvert_exporter": "python",
   "pygments_lexer": "ipython3",
   "version": "3.7.10"
  },
  "orig_nbformat": 4
 },
 "nbformat": 4,
 "nbformat_minor": 2
}
