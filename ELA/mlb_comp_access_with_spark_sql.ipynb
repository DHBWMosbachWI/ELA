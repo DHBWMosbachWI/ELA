{
 "metadata": {
  "language_info": {
   "codemirror_mode": {
    "name": "ipython",
    "version": 3
   },
   "file_extension": ".py",
   "mimetype": "text/x-python",
   "name": "python",
   "nbconvert_exporter": "python",
   "pygments_lexer": "ipython3",
   "version": "3.7.5-final"
  },
  "orig_nbformat": 2,
  "kernelspec": {
   "name": "python3",
   "display_name": "Python 3.7.5 64-bit ('.venv')",
   "metadata": {
    "interpreter": {
     "hash": "ab66573e0c6e0195d0f4424d0e1b2af29c5b79ab090e9ac48ca34c6e1bb0cc47"
    }
   }
  }
 },
 "nbformat": 4,
 "nbformat_minor": 2,
 "cells": [
  {
   "cell_type": "code",
   "execution_count": 7,
   "metadata": {},
   "outputs": [],
   "source": [
    "from pyspark.sql import DataFrameReader\n",
    "from pyspark.sql import SparkSession"
   ]
  },
  {
   "cell_type": "code",
   "execution_count": 8,
   "metadata": {},
   "outputs": [
    {
     "output_type": "stream",
     "name": "stdout",
     "text": [
      "root\n |-- AB: integer (nullable = true)\n |-- AVG: double (nullable = true)\n |-- BABIP: double (nullable = true)\n |-- BB.: integer (nullable = true)\n |-- BB: integer (nullable = true)\n |-- BIP: integer (nullable = true)\n |-- FB.: double (nullable = true)\n |-- FB: integer (nullable = true)\n |-- GB.: double (nullable = true)\n |-- GB: integer (nullable = true)\n |-- GIDP: integer (nullable = true)\n |-- HBP: integer (nullable = true)\n |-- HR: integer (nullable = true)\n |-- H: integer (nullable = true)\n |-- ISO: double (nullable = true)\n |-- K.: integer (nullable = true)\n |-- LD.: double (nullable = true)\n |-- LD: integer (nullable = true)\n |-- Number of Records: integer (nullable = true)\n |-- OBP: double (nullable = true)\n |-- PA: integer (nullable = true)\n |-- PU.: double (nullable = true)\n |-- PU: integer (nullable = true)\n |-- SF: integer (nullable = true)\n |-- SH: integer (nullable = true)\n |-- SLG: double (nullable = true)\n |-- SOL: integer (nullable = true)\n |-- SOS: integer (nullable = true)\n |-- SO: integer (nullable = true)\n |-- TB: integer (nullable = true)\n |-- X1B: integer (nullable = true)\n |-- X2B: integer (nullable = true)\n |-- X3B: integer (nullable = true)\n |-- batter_name: string (nullable = true)\n |-- field: string (nullable = true)\n |-- iBB: integer (nullable = true)\n |-- league: string (nullable = true)\n |-- parentteam: string (nullable = true)\n |-- pwRC.: integer (nullable = true)\n |-- stand: string (nullable = true)\n |-- teamname: string (nullable = true)\n |-- wOBA: double (nullable = true)\n |-- wRAA: double (nullable = true)\n |-- wRC.: integer (nullable = true)\n |-- wRC: double (nullable = true)\n |-- year: integer (nullable = true)\n |-- Calculation_40532458112880653: double (nullable = true)\n |-- Calculation_40532458117070874: double (nullable = true)\n\n"
     ]
    }
   ],
   "source": [
    "inputFile = \"data/MLB_1_comp.csv\"\n",
    "#create a SparkSession\n",
    "spark = (SparkSession\n",
    "       .builder\n",
    "       .appName(\"MLB_1\")\n",
    "       .getOrCreate())\n",
    "# create a DataFrame using an ifered Schema \n",
    "df = spark.read.option(\"header\", \"true\") \\\n",
    "       .option(\"inferSchema\", \"true\") \\\n",
    "       .option(\"delimiter\", \",\") \\\n",
    "       .csv(inputFile)  \n",
    "df.printSchema()"
   ]
  }
 ]
}