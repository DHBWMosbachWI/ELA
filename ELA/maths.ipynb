{
 "cells": [
  {
   "cell_type": "code",
   "execution_count": 7,
   "metadata": {},
   "outputs": [],
   "source": [
    "os.environ[\"PUBLIC_BI_BENCHMARK\"] = \"D:\\\\semantic_data_lake\\\\semantic_data_lake\\\\data\\\\benchmark\\\\\"\r\n",
    "from data_loader.utils import load_public_bi_table, get_all_publicbi_tables\r\n",
    "from maths.statistics import cummulative_distribution_function, inverse_transform_sampling\r\n",
    "import matplotlib.pyplot as plt\r\n",
    "import numpy as np\r\n",
    "from scipy.stats import wasserstein_distance\r\n",
    "from maths.ranking_metrics import mean_reciprocal_rank, MRR\r\n"
   ]
  },
  {
   "cell_type": "code",
   "execution_count": 30,
   "metadata": {},
   "outputs": [
    {
     "data": {
      "text/plain": "[<matplotlib.lines.Line2D at 0x26a0d81be80>]"
     },
     "execution_count": 30,
     "metadata": {},
     "output_type": "execute_result"
    },
    {
     "data": {
      "image/png": "[encoded data removed]",
      "text/plain": "<Figure size 720x504 with 1 Axes>"
     },
     "metadata": {
      "needs_background": "light"
     },
     "output_type": "display_data"
    }
   ],
   "source": [
    "data = load_public_bi_table(\"MLB\", \"MLB_1\", 1)[\"H\"].tolist()\r\n",
    "\r\n",
    "x, icdf = inverse_transform_sampling(data, 100)\r\n",
    "\r\n",
    "plt.figure(figsize=(10,7))\r\n",
    "plt.ylabel(\"values\")\r\n",
    "plt.xlabel(\"cumulative probability\")\r\n",
    "plt.plot(x, icdf, marker=\"o\")"
   ]
  },
  {
   "cell_type": "code",
   "execution_count": 12,
   "metadata": {},
   "outputs": [],
   "source": [
    "data_1 = load_public_bi_table(\"MLB\", \"MLB_1\", 1)[\"H\"].tolist()\r\n",
    "data_2 = load_public_bi_table(\"MLB\", \"MLB_15\", 1)[\"H\"].tolist()\r\n",
    "\r\n",
    "x, icdf_1 = inverse_transform_sampling(data_1, 1000)\r\n",
    "x, icdf_2 = inverse_transform_sampling(data_2, 1000)"
   ]
  },
  {
   "cell_type": "code",
   "execution_count": 13,
   "metadata": {},
   "outputs": [
    {
     "name": "stdout",
     "output_type": "stream",
     "text": [
      "6.969837509194987\n"
     ]
    }
   ],
   "source": [
    "print(wasserstein_distance(data_1, data_2))"
   ]
  },
  {
   "cell_type": "code",
   "execution_count": 14,
   "metadata": {},
   "outputs": [
    {
     "name": "stdout",
     "output_type": "stream",
     "text": [
      "6.992106964558327\n"
     ]
    }
   ],
   "source": [
    "print(wasserstein_distance(icdf_1, icdf_2))"
   ]
  },
  {
   "cell_type": "markdown",
   "metadata": {},
   "source": [
    "# MRR Example"
   ]
  },
  {
   "cell_type": "code",
   "execution_count": 19,
   "metadata": {},
   "outputs": [],
   "source": [
    "ranked_labels = np.array([[\"H\", \"X1B\", \"X2B\"], [\"X1B\", \"H\", \"X2B\"], [\"BB\", \"X2B\", \"H\"]])\r\n"
   ]
  },
  {
   "cell_type": "code",
   "execution_count": 20,
   "metadata": {},
   "outputs": [
    {
     "data": {
      "text/plain": "0.611111111111111"
     },
     "execution_count": 20,
     "metadata": {},
     "output_type": "execute_result"
    }
   ],
   "source": [
    "MRR(\"H\", ranked_labels)"
   ]
  },
  {
   "cell_type": "code",
   "execution_count": null,
   "metadata": {},
   "outputs": [],
   "source": []
  }
 ],
 "metadata": {
  "kernelspec": {
   "display_name": "Python 3.8.8 64-bit ('semantic_data_lake': conda)",
   "name": "python388jvsc74a57bd019be5c547be00959d458ecd8ae5a0aaaa8ac707411755967c8115f31bdf43a0d"
  },
  "language_info": {
   "codemirror_mode": {
    "name": "ipython",
    "version": 3
   },
   "file_extension": ".py",
   "mimetype": "text/x-python",
   "name": "python",
   "nbconvert_exporter": "python",
   "pygments_lexer": "ipython3",
   "version": "3.8.8"
  },
  "orig_nbformat": 2
 },
 "nbformat": 4,
 "nbformat_minor": 2
}