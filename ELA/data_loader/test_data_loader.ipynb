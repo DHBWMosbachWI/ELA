{
 "cells": [
  {
   "cell_type": "code",
   "execution_count": 1,
   "metadata": {},
   "outputs": [],
   "source": [
    "import os\n",
    "os.environ[\"PUBLIC_BI_BENCHMARK\"] = \"D:\\\\semantic_data_lake\\\\semantic_data_lake\\\\data\\\\benchmark\\\\\"\n",
    "os.environ[\"GITTABLES_DIR\"] = \"D:\\\\GitTables\\\\data\"\n",
    "import sys\n",
    "sys.path.insert(0, \"D:\\\\semantic_data_lake\\\\semantic_data_lake\")"
   ]
  },
  {
   "cell_type": "code",
   "execution_count": 2,
   "metadata": {},
   "outputs": [
    {
     "name": "stderr",
     "output_type": "stream",
     "text": [
      "C:\\ProgramData\\Anaconda3\\envs\\semantic_data_lake\\lib\\site-packages\\numpy\\_distributor_init.py:30: UserWarning: loaded more than 1 DLL from .libs:\n",
      "C:\\ProgramData\\Anaconda3\\envs\\semantic_data_lake\\lib\\site-packages\\numpy\\.libs\\libopenblas.NOIJJG62EMASZI6NYURL6JBKM4EVBGM7.gfortran-win_amd64.dll\n",
      "C:\\ProgramData\\Anaconda3\\envs\\semantic_data_lake\\lib\\site-packages\\numpy\\.libs\\libopenblas.WCDJNK7YVMPZQ2ME2ZZHJJRJ3JIKNDB7.gfortran-win_amd64.dll\n",
      "  warnings.warn(\"loaded more than 1 DLL from .libs:\"\n"
     ]
    }
   ],
   "source": [
    "from utils import load_public_bi_table, get_all_publicbi_tables, get_all_publicbi_domains, get_all_gittables_tables_in_a_dir"
   ]
  },
  {
   "cell_type": "code",
   "execution_count": 5,
   "metadata": {},
   "outputs": [],
   "source": [
    "df = load_public_bi_table(\"MLB\", \"MLB_1\", 0.1)"
   ]
  },
  {
   "cell_type": "code",
   "execution_count": 6,
   "metadata": {},
   "outputs": [
    {
     "data": {
      "text/plain": [
       "AB                                 int64\n",
       "AVG                              float64\n",
       "BABIP                            float64\n",
       "BB.                                int64\n",
       "BB                                 int64\n",
       "BIP                                int64\n",
       "FB.                              float64\n",
       "FB                                 int64\n",
       "GB.                              float64\n",
       "GB                                 int64\n",
       "GIDP                               int64\n",
       "HBP                                int64\n",
       "HR                                 int64\n",
       "H                                  int64\n",
       "ISO                              float64\n",
       "K.                               float64\n",
       "LD.                              float64\n",
       "LD                                 int64\n",
       "Number of Records                  int64\n",
       "OBP                              float64\n",
       "PA                                 int64\n",
       "PU.                              float64\n",
       "PU                                 int64\n",
       "SF                                 int64\n",
       "SH                                 int64\n",
       "SLG                              float64\n",
       "SOL                                int64\n",
       "SOS                                int64\n",
       "SO                                 int64\n",
       "TB                                 int64\n",
       "X1B                                int64\n",
       "X2B                                int64\n",
       "X3B                                int64\n",
       "batter_name                       object\n",
       "field                             object\n",
       "iBB                                int64\n",
       "league                            object\n",
       "parentteam                        object\n",
       "pwRC.                            float64\n",
       "stand                             object\n",
       "teamname                          object\n",
       "wOBA                             float64\n",
       "wRAA                             float64\n",
       "wRC.                             float64\n",
       "wRC                              float64\n",
       "year                               int64\n",
       "Calculation_40532458112880653    float64\n",
       "Calculation_40532458117070874    float64\n",
       "dtype: object"
      ]
     },
     "execution_count": 6,
     "metadata": {},
     "output_type": "execute_result"
    }
   ],
   "source": [
    "df.dtypes"
   ]
  },
  {
   "cell_type": "code",
   "execution_count": 11,
   "metadata": {},
   "outputs": [
    {
     "data": {
      "text/plain": [
       "['and', 'document', 'first', 'is', 'one', 'second', 'the', 'third', 'this']"
      ]
     },
     "execution_count": 11,
     "metadata": {},
     "output_type": "execute_result"
    }
   ],
   "source": [
    "from sklearn.feature_extraction.text import TfidfVectorizer\n",
    "\n",
    "corpus = [\n",
    "    'This is the first document.',\n",
    "    'This document is the second document.',\n",
    "    'And this is the third one.',\n",
    "    'Is this the first document?',\n",
    "]\n",
    "\n",
    "vectorizer = TfidfVectorizer()\n",
    "\n",
    "X = vectorizer.fit_transform(corpus)\n",
    "vectorizer.get_feature_names()"
   ]
  },
  {
   "cell_type": "code",
   "execution_count": 16,
   "metadata": {},
   "outputs": [
    {
     "data": {
      "text/plain": [
       "array([[0., 0., 0., 0., 0., 0., 0., 0., 1.]])"
      ]
     },
     "execution_count": 16,
     "metadata": {},
     "output_type": "execute_result"
    }
   ],
   "source": [
    "vectorizer.transform([\"This\"]).toarray()"
   ]
  },
  {
   "cell_type": "code",
   "execution_count": null,
   "metadata": {},
   "outputs": [],
   "source": []
  }
 ],
 "metadata": {
  "interpreter": {
   "hash": "19be5c547be00959d458ecd8ae5a0aaaa8ac707411755967c8115f31bdf43a0d"
  },
  "kernelspec": {
   "display_name": "Python 3.8.8 64-bit ('semantic_data_lake': conda)",
   "language": "python",
   "name": "python3"
  },
  "language_info": {
   "codemirror_mode": {
    "name": "ipython",
    "version": 3
   },
   "file_extension": ".py",
   "mimetype": "text/x-python",
   "name": "python",
   "nbconvert_exporter": "python",
   "pygments_lexer": "ipython3",
   "version": "3.8.8"
  },
  "orig_nbformat": 4
 },
 "nbformat": 4,
 "nbformat_minor": 2
}
